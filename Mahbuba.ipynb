{
  "nbformat": 4,
  "nbformat_minor": 0,
  "metadata": {
    "colab": {
      "name": "Mahbuba.ipynb",
      "private_outputs": true,
      "provenance": [],
      "collapsed_sections": [],
      "authorship_tag": "ABX9TyNqxFGuETE5h4uiZvnNIVCw",
      "include_colab_link": true
    },
    "kernelspec": {
      "name": "python3",
      "display_name": "Python 3"
    },
    "language_info": {
      "name": "python"
    }
  },
  "cells": [
    {
      "cell_type": "markdown",
      "metadata": {
        "id": "view-in-github",
        "colab_type": "text"
      },
      "source": [
        "<a href=\"https://colab.research.google.com/github/msultana22/Covid-19-occupied-beds-statewide_summmer-final-project-/blob/main/Mahbuba.ipynb\" target=\"_parent\"><img src=\"https://colab.research.google.com/assets/colab-badge.svg\" alt=\"Open In Colab\"/></a>"
      ]
    },
    {
      "cell_type": "code",
      "metadata": {
        "id": "sPUk2o4JS_G-"
      },
      "source": [
        "import pandas as pd \n",
        "import numpy as np\n",
        "from matplotlib import pyplot as plt\n",
        "import seaborn as sns\n",
        "import plotly \n",
        "print ('successful')"
      ],
      "execution_count": null,
      "outputs": []
    },
    {
      "cell_type": "code",
      "metadata": {
        "id": "qQT7LWOjTJxk"
      },
      "source": [
        "df = pd.read_csv('https://healthdata.gov/resource/py8k-j5rq.csv')\n",
        "df"
      ],
      "execution_count": null,
      "outputs": []
    },
    {
      "cell_type": "markdown",
      "metadata": {
        "id": "RWnkwOf5mpaM"
      },
      "source": [
        "# New Section"
      ]
    },
    {
      "cell_type": "code",
      "metadata": {
        "id": "MLYoba0T6QdU"
      },
      "source": [
        "from google.colab import drive\n",
        "drive.mount('/content/drive')"
      ],
      "execution_count": null,
      "outputs": []
    },
    {
      "cell_type": "code",
      "metadata": {
        "id": "KbKRayxNnOSt"
      },
      "source": [
        "df ['percentage_of_inpatient_beds'].value_counts()"
      ],
      "execution_count": null,
      "outputs": []
    },
    {
      "cell_type": "code",
      "metadata": {
        "id": "SubKlr-zq092"
      },
      "source": [
        "df['inpatient_beds_occupied_mod'] = ''\n",
        "df['inpatient_beds_occupied_mod']"
      ],
      "execution_count": null,
      "outputs": []
    },
    {
      "cell_type": "code",
      "metadata": {
        "id": "mySmQkIUlOW8"
      },
      "source": [
        "for idx, row in df.iterrows():\n",
        "  if row['inpatient_beds_occupied_by'] >=15000 :\n",
        "    df.loc[idx, 'inpatient_beds_occupied_by_mod'] = 'yes'\n",
        "  else :\n",
        "    df.loc[idx, 'inpatient_beds_occupied_by_mod'] = 'no'"
      ],
      "execution_count": null,
      "outputs": []
    },
    {
      "cell_type": "code",
      "metadata": {
        "id": "XblPn3XG0QW8"
      },
      "source": [
        "df[['inpatient_beds_occupied_by','inpatient_beds_occupied_by_mod']]"
      ],
      "execution_count": null,
      "outputs": []
    },
    {
      "cell_type": "code",
      "metadata": {
        "id": "4KuK098yzyzu"
      },
      "source": [
        "df['inpatient_beds_occupied_by_mod']"
      ],
      "execution_count": null,
      "outputs": []
    },
    {
      "cell_type": "code",
      "metadata": {
        "id": "78m9abYS4F7o"
      },
      "source": [
        "def rules(row):\n",
        "  if row['inpatient_beds_occupied_by'] >=15000:\n",
        "    return 'yes'\n",
        "  elif row['inpatient_beds_occupied_by_mod'] < 15000:\n",
        "    return 'no'"
      ],
      "execution_count": null,
      "outputs": []
    },
    {
      "cell_type": "code",
      "metadata": {
        "id": "yWTuNQHP8a8p"
      },
      "source": [
        "\n",
        "df['inpatient_beds_occupied_mod2'] = df.apply(rules, 1)"
      ],
      "execution_count": null,
      "outputs": []
    },
    {
      "cell_type": "code",
      "metadata": {
        "id": "b-uL6RZz9exT"
      },
      "source": [
        "df[['inpatient_beds_occupied_by','inpatient_beds_occupied_mod','inpatient_beds_occupied_mod2']]"
      ],
      "execution_count": null,
      "outputs": []
    },
    {
      "cell_type": "code",
      "metadata": {
        "id": "f6Ez3BmRAKhs"
      },
      "source": [
        "def rules2(row):\n",
        "  if row['inpatient_beds_occupied_by'] >= 40000:\n",
        "    return 'yes'\n",
        "  elif row['inpatient_beds_occupied_by'] >= 15000:\n",
        "      return 'maybe'\n",
        "  else:\n",
        "    return 'no' "
      ],
      "execution_count": null,
      "outputs": []
    },
    {
      "cell_type": "code",
      "metadata": {
        "id": "WYFqUFBOB2JB"
      },
      "source": [
        "df['inpatient_beds_occupied_by_mod3'] = df.apply(rules2, 1)"
      ],
      "execution_count": null,
      "outputs": []
    },
    {
      "cell_type": "code",
      "metadata": {
        "id": "Gf3Qp94MCK8R"
      },
      "source": [
        "df[['inpatient_beds_occupied_by','inpatient_beds_occupied_by_mod3']].sample(50)"
      ],
      "execution_count": null,
      "outputs": []
    },
    {
      "cell_type": "code",
      "metadata": {
        "id": "LupiH9YesIS6"
      },
      "source": [
        "def statecapacity(row):\n",
        "  if row['percentage_of_inpatient_beds'] == '2.0':\n",
        "    return 'minimum'\n",
        "  else:\n",
        "    return 'maximum' "
      ],
      "execution_count": null,
      "outputs": []
    },
    {
      "cell_type": "code",
      "metadata": {
        "id": "7TDWDgkYtCDs"
      },
      "source": [
        "df['percentage_of_inpatient_beds_mod'] = df.apply(statecapacity,1)"
      ],
      "execution_count": null,
      "outputs": []
    },
    {
      "cell_type": "code",
      "metadata": {
        "id": "u5MUmWnNtchY"
      },
      "source": [
        "df[['percentage_of_inpatient_beds','percentage_of_inpatient_beds_mod']].sample(50)"
      ],
      "execution_count": null,
      "outputs": []
    },
    {
      "cell_type": "code",
      "metadata": {
        "id": "lnuNGZ_AxSEl"
      },
      "source": [
        "df['total_inpatient_beds'].describe()"
      ],
      "execution_count": null,
      "outputs": []
    },
    {
      "cell_type": "code",
      "metadata": {
        "id": "HuQsJBBzzdCi"
      },
      "source": [
        "df[['total_inpatient_beds','inpatient_beds_occupied_by']].describe()"
      ],
      "execution_count": null,
      "outputs": []
    },
    {
      "cell_type": "code",
      "metadata": {
        "id": "QtVn1xV1_7yz"
      },
      "source": [
        "import plotly.express as px"
      ],
      "execution_count": null,
      "outputs": []
    },
    {
      "cell_type": "code",
      "metadata": {
        "id": "bpaosDdAFJJW"
      },
      "source": [
        "df1 = df.sample(100)"
      ],
      "execution_count": null,
      "outputs": []
    },
    {
      "cell_type": "code",
      "metadata": {
        "id": "DB--7ABwAJj0"
      },
      "source": [
        "fig = px.bar(df, x='inpatient_beds_occupied_by', y='percentage_of_inpatient_beds',template='plotly_dark', color='total_inpatient_beds')\n",
        "fig.show()"
      ],
      "execution_count": null,
      "outputs": []
    },
    {
      "cell_type": "code",
      "metadata": {
        "id": "Iy3UgSGBeRnP"
      },
      "source": [
        "fig = px.scatter(df, x='inpatient_beds_occupied_by', y='total_inpatient_beds',color='percentage_of_inpatient_beds')\n",
        "fig.show()"
      ],
      "execution_count": null,
      "outputs": []
    },
    {
      "cell_type": "code",
      "metadata": {
        "id": "IBbuiDRijh40"
      },
      "source": [
        "fig = px.histogram(df, x=\"inpatient_beds_occupied_by\", y='total_inpatient_beds', color='inpatient_beds_occupied_by')\n",
        "fig.show()"
      ],
      "execution_count": null,
      "outputs": []
    },
    {
      "cell_type": "markdown",
      "metadata": {
        "id": "COs_skdrjhTt"
      },
      "source": [
        ""
      ]
    },
    {
      "cell_type": "code",
      "metadata": {
        "id": "dDvcBJw9zPRn"
      },
      "source": [
        "sns.set(rc={'figure.figsize':(20,15)})\n",
        "vis1 = sns.barplot(x='state', y='inpatient_beds_occupied_by', data=df)\n",
        "vis1.set_xticklabels(vis1.get_xticklabels(), rotation=90)\n",
        "vis1.set(xlabel='state', ylabel='inpatient_beds_occupied_by', title='percentage_of_inpatient_beds')"
      ],
      "execution_count": null,
      "outputs": []
    },
    {
      "cell_type": "markdown",
      "metadata": {
        "id": "fyqs3g8hJOsL"
      },
      "source": [
        "\n",
        "\n",
        "1.  The purpose of this datasets is to explore statewide hospitals impatient bed capacity and to slice a large dataset and glean insight from it.\n",
        "2.   1000 rows and 12 columns \n",
        "3. My datasets had some unnecessary percentage \n",
        "4.  yes because the seaborn lineplot follow a straigt line\n",
        "\n",
        "\n",
        "\n"
      ]
    }
  ]
}